{
 "cells": [
  {
   "cell_type": "code",
   "execution_count": 6,
   "metadata": {},
   "outputs": [
    {
     "ename": "",
     "evalue": "",
     "output_type": "error",
     "traceback": [
      "\u001b[1;31mThe Kernel crashed while executing code in the current cell or a previous cell. \n",
      "\u001b[1;31mPlease review the code in the cell(s) to identify a possible cause of the failure. \n",
      "\u001b[1;31mClick <a href='https://aka.ms/vscodeJupyterKernelCrash'>here</a> for more info. \n",
      "\u001b[1;31mView Jupyter <a href='command:jupyter.viewOutput'>log</a> for further details."
     ]
    }
   ],
   "source": [
    "import gym\n",
    "import numpy as np\n",
    "import matplotlib.pyplot as plt\n",
    "\n",
    "\n",
    "\n",
    "class Node:\n",
    "    def __init__(self, state, parent=None):\n",
    "        self.state = state\n",
    "        self.parent = parent\n",
    "        self.children = []\n",
    "        self.visits = 0\n",
    "        self.score = 0\n",
    "\n",
    "    def expand(self):\n",
    "        actions = range(env.action_space.n)\n",
    "        for action in actions:\n",
    "            next_state, reward, done, _, _ = env.step(action)\n",
    "            child = Node(next_state, self)\n",
    "            self.children.append(child)\n",
    "\n",
    "    def select_child(self):\n",
    "        exploration_constant = 1.4\n",
    "        epsilon = 1e-6  # small constant to prevent division by zero\n",
    "        scores = [child.score / (child.visits + epsilon) + exploration_constant * np.sqrt(2 * np.log(self.visits + epsilon) / (child.visits + epsilon)) for child in self.children]\n",
    "        return self.children[np.argmax(scores)]\n",
    "\n",
    "    def simulate(self):\n",
    "        total_reward = 0\n",
    "        state = env.reset()  # Reset the environment at the beginning of each simulation\n",
    "        while True:\n",
    "            action = env.action_space.sample()\n",
    "            state, reward, done, _, _ = env.step(action)\n",
    "            total_reward += reward\n",
    "            if done:\n",
    "                break\n",
    "        return total_reward\n",
    "\n",
    "    def backpropagate(self, reward):\n",
    "        node = self\n",
    "        while node is not None:\n",
    "            node.visits += 1\n",
    "            node.score += reward\n",
    "            node = node.parent\n",
    "\n",
    "scores = []  # List to keep track of scores\n",
    "def mcts_search(env, iterations):\n",
    "    root = Node(env.reset())\n",
    "    \n",
    "    for _ in range(iterations):\n",
    "        node = root\n",
    "        while len(node.children) > 0:\n",
    "            node = node.select_child()\n",
    "        if node.visits == 0:\n",
    "            node.expand()\n",
    "        reward = node.simulate()\n",
    "        node.backpropagate(reward)\n",
    "        scores.append(node.score)  # Append the score of the node to the list\n",
    "    best_child = max(root.children, key=lambda child: child.visits)\n",
    "    return np.argmax(best_child.state), scores  # Return the scores along with the best action\n",
    "\n",
    "\n",
    "# Create the Space Invaders environment\n",
    "env = gym.make('SpaceInvaders-v4', render_mode=\"human\")\n",
    "#env = gym.make('SpaceInvaders-v4')\n",
    "\n",
    "# Run the MCTS algorithm for 1000 iterations and 10 \n",
    "total_scores = []\n",
    "for _ in range(1):\n",
    "    best_action, game_scores = mcts_search(env, 100)\n",
    "    total_scores.append(game_scores[-1])  # Append the final score of each game to total_scores\n",
    "\n",
    "# Assuming you have a list of scores for each iteration\n",
    "\n",
    "# Calculate the moving average\n",
    "window_size = 3\n",
    "moving_average = [sum(scores[i:i+window_size]) / window_size for i in range(len(scores) - window_size + 1)]\n",
    "\n",
    "# Plot the scores and moving average\n",
    "plt.plot(total_scores, label='Score')\n",
    "#plt.plot(range(window_size-1, len(total_scores)), moving_average, label='Moving Average')\n",
    "plt.xlabel('Iteration')\n",
    "plt.ylabel('Score')\n",
    "plt.legend()\n",
    "\n",
    "# Show the plot\n",
    "plt.show()\n",
    "\n",
    "\n"
   ]
  },
  {
   "cell_type": "code",
   "execution_count": 5,
   "metadata": {},
   "outputs": [
    {
     "data": {
      "image/png": "[encoded data removed]",
      "text/plain": [
       "<Figure size 640x480 with 1 Axes>"
      ]
     },
     "metadata": {},
     "output_type": "display_data"
    }
   ],
   "source": [
    "# Calculate the moving average\n",
    "moving_average = [sum(scores[i:i+window_size]) / window_size for i in range(len(scores) - window_size + 1)]\n",
    "\n",
    "# Plot the scores and moving average\n",
    "plt.plot(total_scores, label='Score')\n",
    "#plt.plot(range(window_size-1, len(total_scores)), moving_average, label='Moving Average')\n",
    "plt.xlabel('Iteration')\n",
    "plt.ylabel('Score')\n",
    "plt.legend()\n",
    "\n",
    "# Show the plot\n",
    "plt.show()"
   ]
  }
 ],
 "metadata": {
  "kernelspec": {
   "display_name": "Python 3",
   "language": "python",
   "name": "python3"
  },
  "language_info": {
   "codemirror_mode": {
    "name": "ipython",
    "version": 3
   },
   "file_extension": ".py",
   "mimetype": "text/x-python",
   "name": "python",
   "nbconvert_exporter": "python",
   "pygments_lexer": "ipython3",
   "version": "3.10.11"
  }
 },
 "nbformat": 4,
 "nbformat_minor": 2
}
